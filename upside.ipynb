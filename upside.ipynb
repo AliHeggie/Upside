{
 "cells": [
  {
   "cell_type": "code",
   "execution_count": 1,
   "metadata": {},
   "outputs": [],
   "source": [
    "from amplpy import AMPL, DataFrame\n",
    "import pandas as pd\n",
    "import numpy as np\n",
    "import os"
   ]
  },
  {
   "cell_type": "markdown",
   "metadata": {},
   "source": [
    "# Load the ampl model"
   ]
  },
  {
   "cell_type": "code",
   "execution_count": 2,
   "metadata": {},
   "outputs": [],
   "source": [
    "ampl = AMPL()\n",
    "modelDirectory = \"models\"\n",
    "modelName = \"two_markets.mod\"\n",
    "mod_path = os.path.join(modelDirectory, modelName)\n",
    "dataDirectory = \"data/balanced/\"\n",
    "ampl.read(mod_path)"
   ]
  },
  {
   "cell_type": "markdown",
   "metadata": {},
   "source": [
    "# Assign set data"
   ]
  },
  {
   "cell_type": "code",
   "execution_count": 3,
   "metadata": {},
   "outputs": [],
   "source": [
    "# Method to assign set data taking set name and a list as arguments\n",
    "def assign_set_data(name,data):\n",
    "    df = DataFrame(name)\n",
    "    df.setColumn(name,data)\n",
    "    ampl.setData(df,name)"
   ]
  },
  {
   "cell_type": "code",
   "execution_count": 4,
   "metadata": {},
   "outputs": [],
   "source": [
    "intervals = pd.read_csv(os.path.join(dataDirectory, \"intervals.csv\"),skipinitialspace=True)\n",
    "dffr = pd.read_csv(os.path.join(dataDirectory, \"dffr.csv\"),skipinitialspace=True)\n",
    "da = pd.read_csv(os.path.join(dataDirectory, \"da.csv\"),skipinitialspace=True)"
   ]
  },
  {
   "cell_type": "code",
   "execution_count": 5,
   "metadata": {},
   "outputs": [],
   "source": [
    "assign_set_data(\"INTERVALS\",intervals.values[:,0])\n",
    "assign_set_data(\"DFFR_PRICE\",dffr.DFFR_PRICE.values)\n",
    "assign_set_data(\"DA_PRICE\",da.DA_PRICE.unique())"
   ]
  },
  {
   "cell_type": "markdown",
   "metadata": {},
   "source": [
    "# Assign parameter data"
   ]
  },
  {
   "cell_type": "code",
   "execution_count": 6,
   "metadata": {},
   "outputs": [],
   "source": [
    "ampl.getParameter('Cost').set(0)\n",
    "ampl.getParameter('Ramp').set(999999)\n",
    "ampl.getParameter('Ramp_DFFR').set(9999999)\n",
    "ampl.getParameter('P_MAX').set(2)"
   ]
  },
  {
   "cell_type": "code",
   "execution_count": 7,
   "metadata": {},
   "outputs": [],
   "source": [
    "n_DFFR_PRICE = len(dffr.DFFR_PRICE.unique())\n",
    "\n",
    "df = pd.DataFrame([1/n_DFFR_PRICE for i in range(n_DFFR_PRICE)],\n",
    "             columns=[\"p_R\"],\n",
    "             index = dffr.DFFR_PRICE.values)\n",
    "ampl_df = DataFrame.fromPandas(df)\n",
    "ampl.setData(ampl_df)\n",
    "\n",
    "n_DA_PRICE = len(da.DA_PRICE.unique())\n",
    "df = pd.DataFrame([1/n_DA_PRICE for i in range(n_DA_PRICE)],\n",
    "             columns=[\"p_DA\"],\n",
    "             index = da.DA_PRICE.unique())\n",
    "ampl_df = DataFrame.fromPandas(df)\n",
    "ampl.setData(ampl_df)\n",
    "\n",
    "n_INTERVAL = len(intervals)"
   ]
  },
  {
   "cell_type": "code",
   "execution_count": 8,
   "metadata": {},
   "outputs": [],
   "source": [
    "df = dffr.set_index(\"DFFR_PRICE\")\n",
    "ampl_df = DataFrame.fromPandas(df)\n",
    "ampl.setData(ampl_df)\n",
    "\n",
    "df = da.set_index([\"DA_PRICE\",\"INTERVALS\"])\n",
    "ampl_df = DataFrame.fromPandas(df)\n",
    "ampl.setData(ampl_df)\n"
   ]
  },
  {
   "cell_type": "markdown",
   "metadata": {},
   "source": [
    "# Solve the model"
   ]
  },
  {
   "cell_type": "code",
   "execution_count": 9,
   "metadata": {},
   "outputs": [],
   "source": [
    "# Set ampl options\n",
    "cplexopt = 'mipdisplay = 2 mipgap = .005'\n",
    "knitro_options = 'outlev = 1 mip_outlevel = 1'\n",
    "solver = 'cplexamp'\n",
    "settings = {'solver': solver, 'knitro_options':knitro_options,'cplex_options': cplexopt}\n",
    "for key in settings:\n",
    "    ampl.setOption(key, settings[key])"
   ]
  },
  {
   "cell_type": "code",
   "execution_count": 10,
   "metadata": {
    "scrolled": false
   },
   "outputs": [
    {
     "name": "stdout",
     "output_type": "stream",
     "text": [
      "CPLEX 12.5.1.0: mipdisplay = 2\n",
      "mipgap = .005\n",
      "Found incumbent of value 0.000000 after 0.00 sec. (0.03 ticks)\n",
      "MIP Presolve eliminated 72 rows and 96 columns.\n",
      "Reduced MIP has 202 rows, 178 columns, and 454 nonzeros.\n",
      "Reduced MIP has 75 binaries, 0 generals, 0 SOSs, and 0 indicators.\n",
      "Probing time = 0.00 sec. (0.06 ticks)\n",
      "Reduced MIP has 202 rows, 178 columns, and 454 nonzeros.\n",
      "Reduced MIP has 75 binaries, 0 generals, 0 SOSs, and 0 indicators.\n",
      "Probing time = 0.00 sec. (0.06 ticks)\n",
      "Clique table members: 25.\n",
      "MIP emphasis: balance optimality and feasibility.\n",
      "MIP search method: dynamic search.\n",
      "Parallel mode: deterministic, using up to 32 threads.\n",
      "Root relaxation solution time = 0.00 sec. (0.53 ticks)\n",
      "\n",
      "        Nodes                                         Cuts/\n",
      "   Node  Left     Objective  IInf  Best Integer    Best Bound    ItCnt     Gap\n",
      "\n",
      "*     0+    0                            0.0000     3699.0100       63     --- \n",
      "*     0+    0                          725.2550     3699.0100       63  410.03%\n",
      "      0     0     1281.4675    25      725.2550     1281.4675       63   76.69%\n",
      "      0     0     1124.1744    25      725.2550      Cuts: 43       93   55.00%\n",
      "      0     0      971.0971    67      725.2550      Cuts: 44      139   33.90%\n",
      "*     0+    0                          728.9638      971.0971      139   33.22%\n",
      "*     0+    0                          731.2275      971.0971      139   32.80%\n",
      "      0     2      971.0971    67      731.2275      971.0971      139   32.80%\n",
      "Elapsed time = 0.18 sec. (12.16 ticks, tree = 0.01 MB)\n",
      "*    16+   16                          731.2275      896.6575      234   22.62%\n",
      "*    74+   60                          731.2275      896.6575      399   22.62%\n",
      "\n",
      "Mixed integer rounding cuts applied:  105\n",
      "Lift and project cuts applied:  7\n",
      "Gomory fractional cuts applied:  13\n",
      "\n",
      "Root node processing (before b&c):\n",
      "  Real time             =    0.16 sec. (11.81 ticks)\n",
      "Parallel b&c, 32 threads:\n",
      "  Real time             =    1.30 sec. (215.77 ticks)\n",
      "  Sync time (average)   =    0.00 sec.\n",
      "  Wait time (average)   =    0.00 sec.\n",
      "                          ------------\n",
      "Total (root+branch&cut) =    1.46 sec. (227.58 ticks)\n",
      "CPLEX 12.5.1.0: optimal (non-)integer solution within mipgap or absmipgap; objective 731.227595\n",
      "15770 MIP simplex iterations\n",
      "7153 branch-and-bound nodes\n",
      "absmipgap = 3.49437, relmipgap = 0.00477878\n",
      "32 integer variables rounded (maxerr = 3.4315e-07).\n",
      "Assigning integrality = 2e-07 might help.\n",
      "Currently integrality = 1e-05.\n"
     ]
    }
   ],
   "source": [
    "ampl.solve()"
   ]
  },
  {
   "cell_type": "code",
   "execution_count": 11,
   "metadata": {},
   "outputs": [],
   "source": [
    "## Extract solution ##\n",
    "d_R  = ampl.getVariable('d_R' ).getValues().toPandas()\n",
    "d_DA = ampl.getVariable('d_DA').getValues().toPandas()\n",
    "q_R  = ampl.getVariable('q_R' ).getValues().toPandas()\n",
    "q_DA = ampl.getVariable('q_DA').getValues().toPandas()\n",
    "Q_R  = ampl.getVariable('Q_R' ).getValues().toPandas()\n",
    "Q_DA = ampl.getVariable('Q_DA').getValues().toPandas()\n",
    "\n",
    "# The level and amount of bit for each market. Be aware of the 0-based indexes.\n",
    "bid_level_R   = np.where(d_R['d_R.val']==1)[0][0]           # 0-BASED INDEX.\n",
    "bid_amount_R  = np.sum(q_R)\n",
    "bid_level_DA  = np.zeros((n_DFFR_PRICE, n_INTERVAL), int)   # 0-BASED INDEX.\n",
    "bid_amount_DA = np.zeros((n_DFFR_PRICE, n_INTERVAL))\n",
    "\n",
    "for i in d_DA.index:\n",
    "    bid_amount = q_DA.at[i, 'q_DA.val']\n",
    "    if bid_amount > 1e-5:\n",
    "        bid_level_DA[ int(i[0]-1), int(i[2]-1)] = int(i[1]-1)\n",
    "        bid_amount_DA[int(i[0]-1), int(i[2]-1)] = bid_amount"
   ]
  },
  {
   "cell_type": "code",
   "execution_count": 12,
   "metadata": {},
   "outputs": [
    {
     "name": "stdout",
     "output_type": "stream",
     "text": [
      "\n",
      "- DFFR\n",
      "bid level:  3, bid amount:   2.00\n",
      "\n",
      "- DA\n",
      "  DFFR   time   bid level  bid amount\n",
      "     1      1           1        2.00\n",
      "     1      2           1        2.00\n",
      "     1      3           1        2.00\n",
      "     1      4           1        2.00\n",
      "     1      5           1        2.00\n",
      "     1      6           1        2.00\n",
      "     2      1           1        2.00\n",
      "     2      2           1        2.00\n",
      "     2      3           1        2.00\n",
      "     2      4           1        2.00\n",
      "     2      5           1        2.00\n",
      "     2      6           1        2.00\n",
      "     3      1           1        0.00\n",
      "     3      2           1        0.00\n",
      "     3      3           1        0.00\n",
      "     3      4           1        0.00\n",
      "     3      5           1        0.00\n",
      "     3      6           1        0.00\n",
      "     4      1           1        0.00\n",
      "     4      2           1        0.00\n",
      "     4      3           1        0.00\n",
      "     4      4           1        0.00\n",
      "     4      5           1        0.00\n",
      "     4      6           1        0.00\n"
     ]
    }
   ],
   "source": [
    "print('\\n- DFFR')\n",
    "print('bid level: %2d, bid amount: %6.2f' % (bid_level_R+1, bid_amount_R))\n",
    "                                                       # └ 0-BASED INDEX!!\n",
    "\n",
    "print('\\n- DA')\n",
    "print('%6s %6s %11s %11s' % ('DFFR', 'time', 'bid level', 'bid amount'))\n",
    "for i in range(n_DFFR_PRICE):\n",
    "    for t in range(n_INTERVAL):\n",
    "        print('%6d %6d %11d %11.2f' %\n",
    "              (i+1, t+1, bid_level_DA[i, t]+1, bid_amount_DA[i, t]))\n",
    "              #  └────┴─────────────────────┴── 0-BASED INDEX!!"
   ]
  },
  {
   "cell_type": "code",
   "execution_count": 13,
   "metadata": {},
   "outputs": [],
   "source": [
    "# # For debug. Print when the bids are accepted.\n",
    "# print('\\n- Accepted bid in DFFR')\n",
    "# print(Q_R.loc[Q_R['Q_R.val'] >= 1e-5])\n",
    "#\n",
    "# print('\\n- Accepted bid in DA:')\n",
    "# print(Q_DA.loc[Q_DA['Q_DA.val'] >= 1e-5])"
   ]
  }
 ],
 "metadata": {
  "kernelspec": {
   "display_name": "Python 3",
   "language": "python",
   "name": "python3"
  },
  "language_info": {
   "codemirror_mode": {
    "name": "ipython",
    "version": 3
   },
   "file_extension": ".py",
   "mimetype": "text/x-python",
   "name": "python",
   "nbconvert_exporter": "python",
   "pygments_lexer": "ipython3",
   "version": "3.4.2"
  }
 },
 "nbformat": 4,
 "nbformat_minor": 2
}
