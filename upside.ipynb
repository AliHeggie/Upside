{
 "cells": [
  {
   "cell_type": "code",
   "execution_count": 40,
   "metadata": {},
   "outputs": [],
   "source": [
    "from amplpy import AMPL, DataFrame\n",
    "import pandas as pd\n",
    "import numpy as np\n",
    "import os"
   ]
  },
  {
   "cell_type": "markdown",
   "metadata": {},
   "source": [
    "# Load the ampl model"
   ]
  },
  {
   "cell_type": "code",
   "execution_count": 41,
   "metadata": {},
   "outputs": [],
   "source": [
    "ampl = AMPL()\n",
    "modelDirectory = \"models\"\n",
    "modelName = \"two_markets.mod\"\n",
    "mod_path = os.path.join(modelDirectory, modelName)\n",
    "dataDirectory = \"data\"\n",
    "ampl.read(mod_path)"
   ]
  },
  {
   "cell_type": "markdown",
   "metadata": {},
   "source": [
    "# Assign set data"
   ]
  },
  {
   "cell_type": "code",
   "execution_count": 42,
   "metadata": {},
   "outputs": [],
   "source": [
    "# Method to assign set data taking set name and a list as arguments\n",
    "def assign_set_data(name,data):\n",
    "    df = DataFrame(name)\n",
    "    df.setColumn(name,data)\n",
    "    ampl.setData(df,name)"
   ]
  },
  {
   "cell_type": "code",
   "execution_count": 43,
   "metadata": {},
   "outputs": [],
   "source": [
    "intervals = pd.read_csv(os.path.join(dataDirectory, \"intervals.csv\"),skipinitialspace=True)\n",
    "dffr = pd.read_csv(os.path.join(dataDirectory, \"dffr.csv\"),skipinitialspace=True)\n",
    "da = pd.read_csv(os.path.join(dataDirectory, \"da.csv\"),skipinitialspace=True)"
   ]
  },
  {
   "cell_type": "code",
   "execution_count": 44,
   "metadata": {},
   "outputs": [],
   "source": [
    "assign_set_data(\"INTERVALS\",intervals.values[:,0])\n",
    "assign_set_data(\"DFFR_PRICE\",dffr.DFFR_PRICE.values)\n",
    "assign_set_data(\"DA_PRICE\",da.DA_PRICE.unique())"
   ]
  },
  {
   "cell_type": "markdown",
   "metadata": {},
   "source": [
    "# Assign parameter data"
   ]
  },
  {
   "cell_type": "code",
   "execution_count": 45,
   "metadata": {},
   "outputs": [],
   "source": [
    "ampl.getParameter('Cost').set(0)\n",
    "ampl.getParameter('Ramp').set(999999)\n",
    "ampl.getParameter('Ramp_DFFR').set(9999999)\n",
    "ampl.getParameter('P_MAX').set(2)"
   ]
  },
  {
   "cell_type": "code",
   "execution_count": 46,
   "metadata": {},
   "outputs": [],
   "source": [
    "n_DFFR_PRICE = len(dffr.DFFR_PRICE.unique())\n",
    "\n",
    "df = pd.DataFrame([1/n_DFFR_PRICE for i in range(n_DFFR_PRICE)],\n",
    "             columns=[\"p_R\"],\n",
    "             index = dffr.DFFR_PRICE.values)\n",
    "ampl_df = DataFrame.fromPandas(df)\n",
    "ampl.setData(ampl_df)\n",
    "\n",
    "n_DA_PRICE = len(da.DA_PRICE.unique())\n",
    "df = pd.DataFrame([1/n_DA_PRICE for i in range(n_DA_PRICE)],\n",
    "             columns=[\"p_DA\"],\n",
    "             index = da.DA_PRICE.unique())\n",
    "ampl_df = DataFrame.fromPandas(df)\n",
    "ampl.setData(ampl_df)\n",
    "\n"
   ]
  },
  {
   "cell_type": "code",
   "execution_count": 47,
   "metadata": {},
   "outputs": [],
   "source": [
    "df = dffr.set_index(\"DFFR_PRICE\")\n",
    "ampl_df = DataFrame.fromPandas(df)\n",
    "ampl.setData(ampl_df)\n",
    "\n",
    "df = da.set_index([\"DA_PRICE\",\"INTERVALS\"])\n",
    "ampl_df = DataFrame.fromPandas(df)\n",
    "ampl.setData(ampl_df)\n"
   ]
  },
  {
   "cell_type": "markdown",
   "metadata": {},
   "source": [
    "# Solve the model"
   ]
  },
  {
   "cell_type": "code",
   "execution_count": 48,
   "metadata": {},
   "outputs": [],
   "source": [
    "# Set ampl options\n",
    "cplexopt = 'mipdisplay = 2 mipgap = .005'\n",
    "knitro_options = 'outlev = 1 mip_outlevel = 1'\n",
    "solver = 'cplexamp'\n",
    "settings = {'solver': solver, 'knitro_options':knitro_options,'cplex_options': cplexopt}\n",
    "for key in settings:\n",
    "    ampl.setOption(key, settings[key])"
   ]
  },
  {
   "cell_type": "code",
   "execution_count": 49,
   "metadata": {
    "scrolled": false
   },
   "outputs": [
    {
     "name": "stdout",
     "output_type": "stream",
     "text": [
      "CPLEX 12.5.1.0: mipdisplay = 2\n",
      "mipgap = .005\n",
      "Found incumbent of value 0.000000 after 0.00 sec. (0.03 ticks)\n",
      "MIP Presolve eliminated 396 rows and 321 columns.\n",
      "All rows and columns eliminated.\n",
      "\n",
      "Root node processing (before b&c):\n",
      "  Real time             =    0.00 sec. (0.64 ticks)\n",
      "Parallel b&c, 32 threads:\n",
      "  Real time             =    0.00 sec. (0.00 ticks)\n",
      "  Sync time (average)   =    0.00 sec.\n",
      "  Wait time (average)   =    0.00 sec.\n",
      "                          ------------\n",
      "Total (root+branch&cut) =    0.00 sec. (0.64 ticks)\n",
      "CPLEX 12.5.1.0: optimal integer solution; objective 2004.01\n",
      "0 MIP simplex iterations\n",
      "0 branch-and-bound nodes\n",
      "Tried aggregator 2 times\n"
     ]
    }
   ],
   "source": [
    "ampl.solve()"
   ]
  },
  {
   "cell_type": "code",
   "execution_count": 50,
   "metadata": {},
   "outputs": [
    {
     "name": "stdout",
     "output_type": "stream",
     "text": [
      "Bid at level accepted in this DFFR scenario (and above):\n",
      "     d_R.val\n",
      "1.0      1.0\n",
      "Given DFFR scenario i, bid at level accepted in this DA scenario (and above) in time period t:\n",
      "                 d_DA.val\n",
      "(1.0, 1.0, 1.0)       1.0\n",
      "(1.0, 1.0, 2.0)       1.0\n",
      "(1.0, 1.0, 3.0)       1.0\n",
      "(1.0, 1.0, 4.0)       1.0\n",
      "(1.0, 1.0, 5.0)       1.0\n",
      "(1.0, 1.0, 6.0)       1.0\n",
      "(2.0, 2.0, 1.0)       1.0\n",
      "(2.0, 2.0, 2.0)       1.0\n",
      "(2.0, 2.0, 3.0)       1.0\n",
      "(2.0, 2.0, 4.0)       1.0\n",
      "(2.0, 2.0, 5.0)       1.0\n",
      "(2.0, 2.0, 6.0)       1.0\n",
      "(3.0, 3.0, 1.0)       1.0\n",
      "(3.0, 3.0, 2.0)       1.0\n",
      "(3.0, 3.0, 3.0)       1.0\n",
      "(3.0, 3.0, 4.0)       1.0\n",
      "(3.0, 3.0, 5.0)       1.0\n",
      "(3.0, 3.0, 6.0)       1.0\n",
      "(4.0, 4.0, 1.0)       1.0\n",
      "(4.0, 4.0, 2.0)       1.0\n",
      "(4.0, 4.0, 3.0)       1.0\n",
      "(4.0, 4.0, 4.0)       1.0\n",
      "(4.0, 4.0, 5.0)       1.0\n",
      "(4.0, 4.0, 6.0)       1.0\n"
     ]
    }
   ],
   "source": [
    "# Example of getting solution\n",
    "d_R = ampl.getVariable(\"d_R\").getValues().toPandas()\n",
    "d_DA = ampl.getVariable(\"d_DA\").getValues().toPandas()\n",
    "\n",
    "\n",
    "\n",
    "print(\"Bid at level accepted in this DFFR scenario (and above):\")\n",
    "print(d_R.loc[d_R['d_R.val']==1])\n",
    "\n",
    "print(\"Given DFFR scenario i, bid at level accepted in this DA scenario (and above) in time period t:\")\n",
    "print(d_DA.loc[d_DA['d_DA.val']==1])\n"
   ]
  },
  {
   "cell_type": "code",
   "execution_count": 67,
   "metadata": {},
   "outputs": [
    {
     "name": "stdout",
     "output_type": "stream",
     "text": [
      "Bid this quantity of DFFR response:\n",
      "   q_R.val\n",
      "0      2.0\n",
      "For the given DFFR price scenario and time and Bid this quantity of DFFR response:\n",
      "            q_DA.val\n",
      "(1.0, 1.0)       2.0\n",
      "(1.0, 2.0)       2.0\n",
      "(1.0, 3.0)       2.0\n",
      "(1.0, 4.0)       2.0\n",
      "(1.0, 5.0)       2.0\n",
      "(1.0, 6.0)       2.0\n",
      "(2.0, 1.0)       2.0\n",
      "(2.0, 2.0)       2.0\n",
      "(2.0, 3.0)       2.0\n",
      "(2.0, 4.0)       2.0\n",
      "(2.0, 5.0)       2.0\n",
      "(2.0, 6.0)       2.0\n",
      "(3.0, 1.0)       2.0\n",
      "(3.0, 2.0)       2.0\n",
      "(3.0, 3.0)       2.0\n",
      "(3.0, 4.0)       2.0\n",
      "(3.0, 5.0)       2.0\n",
      "(3.0, 6.0)       2.0\n",
      "(4.0, 1.0)       2.0\n",
      "(4.0, 2.0)       2.0\n",
      "(4.0, 3.0)       2.0\n",
      "(4.0, 4.0)       2.0\n",
      "(4.0, 5.0)       2.0\n",
      "(4.0, 6.0)       2.0\n"
     ]
    }
   ],
   "source": [
    "q_R = ampl.getVariable(\"q_R\").getValues().toPandas()\n",
    "print(\"Bid this quantity of DFFR response:\")\n",
    "print(q_R)\n",
    "\n",
    "\n",
    "q_DA = ampl.getVariable(\"q_DA\").getValues().toPandas()\n",
    "print(\"For the given DFFR price scenario and time and Bid this quantity of DFFR response:\")\n",
    "print(q_DA)\n"
   ]
  },
  {
   "cell_type": "code",
   "execution_count": 66,
   "metadata": {},
   "outputs": [
    {
     "name": "stdout",
     "output_type": "stream",
     "text": [
      "Bid this quantity of DFFR response:\n",
      "     Q_R.val\n",
      "1.0      0.0\n",
      "2.0      0.0\n",
      "3.0      0.0\n",
      "4.0      0.0\n",
      "For the given DFFR price scenario and time and Bid this quantity of DFFR response:\n",
      "                 Q_DA.val\n",
      "(1.0, 4.0, 1.0)       2.0\n",
      "(1.0, 4.0, 2.0)       2.0\n",
      "(1.0, 4.0, 3.0)       2.0\n",
      "(1.0, 4.0, 4.0)       2.0\n",
      "(1.0, 4.0, 5.0)       2.0\n",
      "(1.0, 4.0, 6.0)       2.0\n"
     ]
    }
   ],
   "source": [
    "Q_R = ampl.getVariable(\"Q_R\").getValues().toPandas()\n",
    "print(\"Accepted DFFR response in DFFR scenario\")\n",
    "print(Q_R)\n",
    "\n",
    "\n",
    "Q_DA = ampl.getVariable(\"Q_DA\").getValues().toPandas()\n",
    "print(\"For the given DFFR price scenario and time and Bid this quantity of DFFR response:\")\n",
    "\n",
    "print(Q_DA.loc[Q_DA['Q_DA.val']!=0])\n"
   ]
  }
 ],
 "metadata": {
  "kernelspec": {
   "display_name": "Python 3",
   "language": "python",
   "name": "python3"
  },
  "language_info": {
   "codemirror_mode": {
    "name": "ipython",
    "version": 3
   },
   "file_extension": ".py",
   "mimetype": "text/x-python",
   "name": "python",
   "nbconvert_exporter": "python",
   "pygments_lexer": "ipython3",
   "version": "3.6.6"
  }
 },
 "nbformat": 4,
 "nbformat_minor": 2
}
