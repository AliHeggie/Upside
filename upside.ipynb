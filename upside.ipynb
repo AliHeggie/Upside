{
 "cells": [
  {
   "cell_type": "code",
   "execution_count": 2,
   "metadata": {},
   "outputs": [],
   "source": [
    "from amplpy import AMPL, DataFrame\n",
    "import pandas as pd\n",
    "import numpy as np\n",
    "import os"
   ]
  },
  {
   "cell_type": "markdown",
   "metadata": {},
   "source": [
    "# Load the ampl model"
   ]
  },
  {
   "cell_type": "code",
   "execution_count": 3,
   "metadata": {},
   "outputs": [
    {
     "name": "stdout",
     "output_type": "stream",
     "text": [
      "Warning:\n",
      "\tmodels/two_markets.mod\n",
      "\tline 33 offset 1477\n",
      "\tq_DA is not defined\n",
      "Warning:\n",
      "\tmodels/two_markets.mod\n",
      "\tline 34 offset 1554\n",
      "\tp_DA needs 1 subscript, not 2\n",
      "Warning:\n",
      "\tmodels/two_markets.mod\n",
      "\tline 35 offset 1585\n",
      "\tQ_DA is not defined\n"
     ]
    }
   ],
   "source": [
    "ampl = AMPL()\n",
    "modelDirectory = \"models\"\n",
    "modelName = \"two_markets.mod\"\n",
    "mod_path = os.path.join(modelDirectory, modelName)\n",
    "dataDirectory = \"data\"\n",
    "ampl.read(mod_path)"
   ]
  },
  {
   "cell_type": "markdown",
   "metadata": {},
   "source": [
    "# Assign set data"
   ]
  },
  {
   "cell_type": "code",
   "execution_count": 4,
   "metadata": {},
   "outputs": [],
   "source": [
    "# Method to assign set data taking set name and a list as arguments\n",
    "def assign_set_data(name,data):\n",
    "    df = DataFrame(name)\n",
    "    df.setColumn(name,data)\n",
    "    ampl.setData(df,name)"
   ]
  },
  {
   "cell_type": "code",
   "execution_count": 42,
   "metadata": {},
   "outputs": [],
   "source": [
    "intervals = pd.read_csv(os.path.join(dataDirectory, \"intervals.csv\"))\n",
    "dffr = pd.read_csv(os.path.join(dataDirectory, \"dffr.csv\"))\n",
    "da = pd.read_csv(os.path.join(dataDirectory, \"da.csv\"))"
   ]
  },
  {
   "cell_type": "code",
   "execution_count": 59,
   "metadata": {},
   "outputs": [],
   "source": [
    "assign_set_data(\"INTERVALS\",intervals.values[:,0])\n",
    "assign_set_data(\"DFFR_PRICE\",dffr.DFFR_PRICE.values)\n",
    "assign_set_data(\"DA_PRICE\",da.DA_PRICE.unique())"
   ]
  },
  {
   "cell_type": "markdown",
   "metadata": {},
   "source": [
    "# Assign parameter data"
   ]
  },
  {
   "cell_type": "code",
   "execution_count": 66,
   "metadata": {},
   "outputs": [],
   "source": [
    "df = dffr.set_index(\"DFFR_PRICE\")\n",
    "ampl_df = DataFrame.fromPandas(df)\n",
    "ampl.setData(ampl_df)\n",
    "\n",
    "#df = dffr.set_index([\"DA_PRICE\",\"INTERVALS\"])\n",
    "#ampl_df = DataFrame.fromPandas(df)\n",
    "#ampl.setData(ampl_df)\n"
   ]
  },
  {
   "cell_type": "code",
   "execution_count": 14,
   "metadata": {},
   "outputs": [],
   "source": [
    "# Assigning a multi-indexed parameter \n",
    "# (This parameter is not used in the model yet)\n",
    "idx = pd.MultiIndex.from_product([DA_PRICE,INTERVALS],\n",
    "                           names = [\"DA_PRICE\",\"INTERVALS\"])\n",
    "p_DA = np.ones(len(idx))\n",
    "df = pd.DataFrame(p_DA, index = idx, columns=[\"p_DA\"])\n",
    "ampl_df = DataFrame.fromPandas(df)\n",
    "ampl.setData(ampl_df)"
   ]
  },
  {
   "cell_type": "markdown",
   "metadata": {},
   "source": [
    "# Solve the model"
   ]
  },
  {
   "cell_type": "code",
   "execution_count": 68,
   "metadata": {},
   "outputs": [],
   "source": [
    "# Set ampl options\n",
    "cplexopt = 'mipdisplay = 2 mipgap = .005'\n",
    "settings = {'solver': 'cplexamp', 'cplex_options': cplexopt}\n",
    "for key in settings:\n",
    "    ampl.setOption(key, settings[key])"
   ]
  },
  {
   "cell_type": "code",
   "execution_count": 16,
   "metadata": {
    "scrolled": true
   },
   "outputs": [
    {
     "name": "stdout",
     "output_type": "stream",
     "text": [
      "CPLEX 12.5.1.0: mipdisplay = 2\n",
      "mipgap = .005\n",
      "\n",
      "Root node processing (before b&c):\n",
      "  Real time             =    0.00 sec. (0.00 ticks)\n",
      "Parallel b&c, 32 threads:\n",
      "  Real time             =    0.00 sec. (0.00 ticks)\n",
      "  Sync time (average)   =    0.00 sec.\n",
      "  Wait time (average)   =    0.00 sec.\n",
      "                          ------------\n",
      "Total (root+branch&cut) =    0.00 sec. (0.00 ticks)\n",
      "CPLEX 12.5.1.0: QP Hessian is not positive semi-definite.\n",
      "0 MIP simplex iterations\n",
      "0 branch-and-bound nodes\n",
      "No basis.\n"
     ]
    }
   ],
   "source": [
    "ampl.solve()"
   ]
  },
  {
   "cell_type": "code",
   "execution_count": 1,
   "metadata": {},
   "outputs": [
    {
     "ename": "NameError",
     "evalue": "name 'ampl' is not defined",
     "output_type": "error",
     "traceback": [
      "\u001b[0;31m---------------------------------------------------------------------------\u001b[0m",
      "\u001b[0;31mNameError\u001b[0m                                 Traceback (most recent call last)",
      "\u001b[0;32m<ipython-input-1-0e1eecb54ab0>\u001b[0m in \u001b[0;36m<module>\u001b[0;34m\u001b[0m\n\u001b[1;32m      1\u001b[0m \u001b[0;31m# Example of getting solution\u001b[0m\u001b[0;34m\u001b[0m\u001b[0;34m\u001b[0m\u001b[0m\n\u001b[0;32m----> 2\u001b[0;31m \u001b[0mp\u001b[0m \u001b[0;34m=\u001b[0m \u001b[0mampl\u001b[0m\u001b[0;34m.\u001b[0m\u001b[0mgetVariable\u001b[0m\u001b[0;34m(\u001b[0m\u001b[0;34m\"q_R\"\u001b[0m\u001b[0;34m)\u001b[0m\u001b[0;34m\u001b[0m\u001b[0m\n\u001b[0m\u001b[1;32m      3\u001b[0m \u001b[0mp\u001b[0m\u001b[0;34m.\u001b[0m\u001b[0mgetValues\u001b[0m\u001b[0;34m(\u001b[0m\u001b[0;34m)\u001b[0m\u001b[0;34m.\u001b[0m\u001b[0mtoPandas\u001b[0m\u001b[0;34m(\u001b[0m\u001b[0;34m)\u001b[0m\u001b[0;34m\u001b[0m\u001b[0m\n",
      "\u001b[0;31mNameError\u001b[0m: name 'ampl' is not defined"
     ]
    }
   ],
   "source": [
    "# Example of getting solution\n",
    "p = ampl.getVariable(\"q_R\")\n",
    "p.getValues().toPandas()"
   ]
  },
  {
   "cell_type": "code",
   "execution_count": 67,
   "metadata": {},
   "outputs": [
    {
     "data": {
      "text/html": [
       "<div>\n",
       "<style scoped>\n",
       "    .dataframe tbody tr th:only-of-type {\n",
       "        vertical-align: middle;\n",
       "    }\n",
       "\n",
       "    .dataframe tbody tr th {\n",
       "        vertical-align: top;\n",
       "    }\n",
       "\n",
       "    .dataframe thead th {\n",
       "        text-align: right;\n",
       "    }\n",
       "</style>\n",
       "<table border=\"1\" class=\"dataframe\">\n",
       "  <thead>\n",
       "    <tr style=\"text-align: right;\">\n",
       "      <th></th>\n",
       "      <th>price_R</th>\n",
       "    </tr>\n",
       "  </thead>\n",
       "  <tbody>\n",
       "    <tr>\n",
       "      <th>1.0</th>\n",
       "      <td>28.6</td>\n",
       "    </tr>\n",
       "    <tr>\n",
       "      <th>2.0</th>\n",
       "      <td>25.1</td>\n",
       "    </tr>\n",
       "    <tr>\n",
       "      <th>3.0</th>\n",
       "      <td>22.3</td>\n",
       "    </tr>\n",
       "    <tr>\n",
       "      <th>4.0</th>\n",
       "      <td>34.5</td>\n",
       "    </tr>\n",
       "  </tbody>\n",
       "</table>\n",
       "</div>"
      ],
      "text/plain": [
       "     price_R\n",
       "1.0     28.6\n",
       "2.0     25.1\n",
       "3.0     22.3\n",
       "4.0     34.5"
      ]
     },
     "execution_count": 67,
     "metadata": {},
     "output_type": "execute_result"
    }
   ],
   "source": [
    "# Example of getting parameter values\n",
    "p = ampl.getParameter(\"price_R\")\n",
    "p.getValues().toPandas()"
   ]
  }
 ],
 "metadata": {
  "kernelspec": {
   "display_name": "Python 3",
   "language": "python",
   "name": "python3"
  },
  "language_info": {
   "codemirror_mode": {
    "name": "ipython",
    "version": 3
   },
   "file_extension": ".py",
   "mimetype": "text/x-python",
   "name": "python",
   "nbconvert_exporter": "python",
   "pygments_lexer": "ipython3",
   "version": "3.6.6"
  }
 },
 "nbformat": 4,
 "nbformat_minor": 2
}
