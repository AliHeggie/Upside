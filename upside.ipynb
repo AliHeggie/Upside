{
 "cells": [
  {
   "cell_type": "code",
   "execution_count": 1,
   "metadata": {},
   "outputs": [],
   "source": [
    "from amplpy import AMPL, DataFrame\n",
    "import pandas as pd\n",
    "import numpy as np\n",
    "import os"
   ]
  },
  {
   "cell_type": "markdown",
   "metadata": {},
   "source": [
    "# Load the ampl model"
   ]
  },
  {
   "cell_type": "code",
   "execution_count": 2,
   "metadata": {},
   "outputs": [],
   "source": [
    "ampl = AMPL()\n",
    "modelDirectory = \"models\"\n",
    "modelName = \"two_markets.mod\"\n",
    "mod_path = os.path.join(modelDirectory, modelName)\n",
    "dataDirectory = \"data\"\n",
    "ampl.read(mod_path)"
   ]
  },
  {
   "cell_type": "markdown",
   "metadata": {},
   "source": [
    "# Assign set data"
   ]
  },
  {
   "cell_type": "code",
   "execution_count": 3,
   "metadata": {},
   "outputs": [],
   "source": [
    "# Method to assign set data taking set name and a list as arguments\n",
    "def assign_set_data(name,data):\n",
    "    df = DataFrame(name)\n",
    "    df.setColumn(name,data)\n",
    "    ampl.setData(df,name)"
   ]
  },
  {
   "cell_type": "code",
   "execution_count": 4,
   "metadata": {},
   "outputs": [],
   "source": [
    "intervals = pd.read_csv(os.path.join(dataDirectory, \"intervals.csv\"),skipinitialspace=True)\n",
    "dffr = pd.read_csv(os.path.join(dataDirectory, \"dffr.csv\"),skipinitialspace=True)\n",
    "da = pd.read_csv(os.path.join(dataDirectory, \"da.csv\"),skipinitialspace=True)"
   ]
  },
  {
   "cell_type": "code",
   "execution_count": 5,
   "metadata": {},
   "outputs": [],
   "source": [
    "assign_set_data(\"INTERVALS\",intervals.values[:,0])\n",
    "assign_set_data(\"DFFR_PRICE\",dffr.DFFR_PRICE.values)\n",
    "assign_set_data(\"DA_PRICE\",da.DA_PRICE.unique())"
   ]
  },
  {
   "cell_type": "code",
   "execution_count": 6,
   "metadata": {},
   "outputs": [
    {
     "data": {
      "text/plain": [
       "array([1, 2, 3, 4])"
      ]
     },
     "execution_count": 6,
     "metadata": {},
     "output_type": "execute_result"
    }
   ],
   "source": [
    "dffr.DFFR_PRICE.values"
   ]
  },
  {
   "cell_type": "markdown",
   "metadata": {},
   "source": [
    "# Assign parameter data"
   ]
  },
  {
   "cell_type": "code",
   "execution_count": 14,
   "metadata": {},
   "outputs": [],
   "source": [
    "ampl.getParameter('Cost').set(0)\n",
    "ampl.getParameter('Ramp').set(999999)\n",
    "ampl.getParameter('Ramp_DFFR').set(9999999)\n",
    "ampl.getParameter('P_MAX').set(1)"
   ]
  },
  {
   "cell_type": "code",
   "execution_count": 15,
   "metadata": {},
   "outputs": [],
   "source": [
    "n_DFFR_PRICE = len(dffr.DFFR_PRICE.unique())\n",
    "\n",
    "df = pd.DataFrame([1/n_DFFR_PRICE for i in range(n_DFFR_PRICE)],\n",
    "             columns=[\"p_R\"],\n",
    "             index = dffr.DFFR_PRICE.values)\n",
    "ampl_df = DataFrame.fromPandas(df)\n",
    "ampl.setData(ampl_df)\n",
    "\n",
    "n_DA_PRICE = len(da.DA_PRICE.unique())\n",
    "df = pd.DataFrame([1/n_DA_PRICE for i in range(n_DA_PRICE)],\n",
    "             columns=[\"p_DA\"],\n",
    "             index = da.DA_PRICE.unique())\n",
    "ampl_df = DataFrame.fromPandas(df)\n",
    "ampl.setData(ampl_df)\n",
    "\n"
   ]
  },
  {
   "cell_type": "code",
   "execution_count": 16,
   "metadata": {},
   "outputs": [],
   "source": [
    "df = dffr.set_index(\"DFFR_PRICE\")\n",
    "ampl_df = DataFrame.fromPandas(df)\n",
    "ampl.setData(ampl_df)\n",
    "\n",
    "df = da.set_index([\"DA_PRICE\",\"INTERVALS\"])\n",
    "ampl_df = DataFrame.fromPandas(df)\n",
    "ampl.setData(ampl_df)\n"
   ]
  },
  {
   "cell_type": "markdown",
   "metadata": {},
   "source": [
    "# Solve the model"
   ]
  },
  {
   "cell_type": "code",
   "execution_count": 17,
   "metadata": {},
   "outputs": [],
   "source": [
    "# Set ampl options\n",
    "cplexopt = 'mipdisplay = 2 mipgap = .005'\n",
    "settings = {'solver': 'cplexamp', 'cplex_options': cplexopt}\n",
    "for key in settings:\n",
    "    ampl.setOption(key, settings[key])"
   ]
  },
  {
   "cell_type": "code",
   "execution_count": 18,
   "metadata": {
    "scrolled": true
   },
   "outputs": [
    {
     "name": "stdout",
     "output_type": "stream",
     "text": [
      "CPLEX 12.5.1.0: mipdisplay = 2\n",
      "mipgap = .005\n",
      "Found incumbent of value 0.000000 after 0.00 sec. (0.02 ticks)\n",
      "Dual infeasible due to empty column 'x1'.\n",
      "\n",
      "Root node processing (before b&c):\n",
      "  Real time             =    0.00 sec. (0.34 ticks)\n",
      "Parallel b&c, 32 threads:\n",
      "  Real time             =    0.00 sec. (0.00 ticks)\n",
      "  Sync time (average)   =    0.00 sec.\n",
      "  Wait time (average)   =    0.00 sec.\n",
      "                          ------------\n",
      "Total (root+branch&cut) =    0.00 sec. (0.34 ticks)\n",
      "CPLEX 12.5.1.0: integer unbounded ray.\n",
      "0 MIP simplex iterations\n",
      "0 branch-and-bound nodes\n",
      "No basis.\n"
     ]
    }
   ],
   "source": [
    "ampl.solve()"
   ]
  },
  {
   "cell_type": "code",
   "execution_count": 20,
   "metadata": {},
   "outputs": [
    {
     "data": {
      "text/html": [
       "<div>\n",
       "<style scoped>\n",
       "    .dataframe tbody tr th:only-of-type {\n",
       "        vertical-align: middle;\n",
       "    }\n",
       "\n",
       "    .dataframe tbody tr th {\n",
       "        vertical-align: top;\n",
       "    }\n",
       "\n",
       "    .dataframe thead th {\n",
       "        text-align: right;\n",
       "    }\n",
       "</style>\n",
       "<table border=\"1\" class=\"dataframe\">\n",
       "  <thead>\n",
       "    <tr style=\"text-align: right;\">\n",
       "      <th></th>\n",
       "      <th>q_R.val</th>\n",
       "    </tr>\n",
       "  </thead>\n",
       "  <tbody>\n",
       "    <tr>\n",
       "      <th>0</th>\n",
       "      <td>0.0</td>\n",
       "    </tr>\n",
       "  </tbody>\n",
       "</table>\n",
       "</div>"
      ],
      "text/plain": [
       "   q_R.val\n",
       "0      0.0"
      ]
     },
     "execution_count": 20,
     "metadata": {},
     "output_type": "execute_result"
    }
   ],
   "source": [
    "# Example of getting solution\n",
    "p = ampl.getVariable(\"q_R\")\n",
    "p.getValues().toPandas()"
   ]
  },
  {
   "cell_type": "code",
   "execution_count": 27,
   "metadata": {},
   "outputs": [
    {
     "data": {
      "text/html": [
       "<div>\n",
       "<style scoped>\n",
       "    .dataframe tbody tr th:only-of-type {\n",
       "        vertical-align: middle;\n",
       "    }\n",
       "\n",
       "    .dataframe tbody tr th {\n",
       "        vertical-align: top;\n",
       "    }\n",
       "\n",
       "    .dataframe thead th {\n",
       "        text-align: right;\n",
       "    }\n",
       "</style>\n",
       "<table border=\"1\" class=\"dataframe\">\n",
       "  <thead>\n",
       "    <tr style=\"text-align: right;\">\n",
       "      <th></th>\n",
       "      <th>Ramp_DFFR</th>\n",
       "    </tr>\n",
       "  </thead>\n",
       "  <tbody>\n",
       "    <tr>\n",
       "      <th>0</th>\n",
       "      <td>9999999.0</td>\n",
       "    </tr>\n",
       "  </tbody>\n",
       "</table>\n",
       "</div>"
      ],
      "text/plain": [
       "   Ramp_DFFR\n",
       "0  9999999.0"
      ]
     },
     "execution_count": 27,
     "metadata": {},
     "output_type": "execute_result"
    }
   ],
   "source": [
    "# Example of getting parameter values\n",
    "p = ampl.getParameter(\"Ramp_DFFR\")\n",
    "p.getValues().toPandas()"
   ]
  }
 ],
 "metadata": {
  "kernelspec": {
   "display_name": "Python 3",
   "language": "python",
   "name": "python3"
  },
  "language_info": {
   "codemirror_mode": {
    "name": "ipython",
    "version": 3
   },
   "file_extension": ".py",
   "mimetype": "text/x-python",
   "name": "python",
   "nbconvert_exporter": "python",
   "pygments_lexer": "ipython3",
   "version": "3.6.6"
  }
 },
 "nbformat": 4,
 "nbformat_minor": 2
}
